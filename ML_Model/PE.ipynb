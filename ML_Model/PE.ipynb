{
 "cells": [
  {
   "cell_type": "markdown",
   "id": "f0b3db64",
   "metadata": {},
   "source": [
    "# Without oneAPI Tools\n",
    "- to have a look at the comparison between regular OneAPI and regular libraries "
   ]
  },
  {
   "cell_type": "markdown",
   "id": "df34ac9d-529b-48c4-812b-4056e861ac91",
   "metadata": {},
   "source": [
    "#### Importing the dataset\n",
    "#### Source : \n"
   ]
  },
  {
   "cell_type": "markdown",
   "id": "97e45048",
   "metadata": {},
   "source": []
  },
  {
   "cell_type": "code",
   "execution_count": 1,
   "id": "83d69918-74c7-47f1-bd2d-a7a55386d33a",
   "metadata": {},
   "outputs": [],
   "source": [
    "import pandas as pd\n",
    "dataset = pd.read_csv('../Dataset/data.csv', sep='|')"
   ]
  },
  {
   "cell_type": "markdown",
   "id": "542b3597-756a-42d3-82ca-566085b41a6d",
   "metadata": {},
   "source": [
    "#### About the dataset"
   ]
  },
  {
   "cell_type": "code",
   "execution_count": 2,
   "id": "154743d0-d97e-4d8e-908d-93e35061cbec",
   "metadata": {},
   "outputs": [
    {
     "data": {
      "text/html": [
       "<div>\n",
       "<style scoped>\n",
       "    .dataframe tbody tr th:only-of-type {\n",
       "        vertical-align: middle;\n",
       "    }\n",
       "\n",
       "    .dataframe tbody tr th {\n",
       "        vertical-align: top;\n",
       "    }\n",
       "\n",
       "    .dataframe thead th {\n",
       "        text-align: right;\n",
       "    }\n",
       "</style>\n",
       "<table border=\"1\" class=\"dataframe\">\n",
       "  <thead>\n",
       "    <tr style=\"text-align: right;\">\n",
       "      <th></th>\n",
       "      <th>Name</th>\n",
       "      <th>md5</th>\n",
       "      <th>Machine</th>\n",
       "      <th>SizeOfOptionalHeader</th>\n",
       "      <th>Characteristics</th>\n",
       "      <th>MajorLinkerVersion</th>\n",
       "      <th>MinorLinkerVersion</th>\n",
       "      <th>SizeOfCode</th>\n",
       "      <th>SizeOfInitializedData</th>\n",
       "      <th>SizeOfUninitializedData</th>\n",
       "      <th>...</th>\n",
       "      <th>ResourcesNb</th>\n",
       "      <th>ResourcesMeanEntropy</th>\n",
       "      <th>ResourcesMinEntropy</th>\n",
       "      <th>ResourcesMaxEntropy</th>\n",
       "      <th>ResourcesMeanSize</th>\n",
       "      <th>ResourcesMinSize</th>\n",
       "      <th>ResourcesMaxSize</th>\n",
       "      <th>LoadConfigurationSize</th>\n",
       "      <th>VersionInformationSize</th>\n",
       "      <th>legitimate</th>\n",
       "    </tr>\n",
       "  </thead>\n",
       "  <tbody>\n",
       "    <tr>\n",
       "      <th>0</th>\n",
       "      <td>memtest.exe</td>\n",
       "      <td>631ea355665f28d4707448e442fbf5b8</td>\n",
       "      <td>332</td>\n",
       "      <td>224</td>\n",
       "      <td>258</td>\n",
       "      <td>9</td>\n",
       "      <td>0</td>\n",
       "      <td>361984</td>\n",
       "      <td>115712</td>\n",
       "      <td>0</td>\n",
       "      <td>...</td>\n",
       "      <td>4</td>\n",
       "      <td>3.262823</td>\n",
       "      <td>2.568844</td>\n",
       "      <td>3.537939</td>\n",
       "      <td>8797.000000</td>\n",
       "      <td>216</td>\n",
       "      <td>18032</td>\n",
       "      <td>0</td>\n",
       "      <td>16</td>\n",
       "      <td>1</td>\n",
       "    </tr>\n",
       "    <tr>\n",
       "      <th>1</th>\n",
       "      <td>ose.exe</td>\n",
       "      <td>9d10f99a6712e28f8acd5641e3a7ea6b</td>\n",
       "      <td>332</td>\n",
       "      <td>224</td>\n",
       "      <td>3330</td>\n",
       "      <td>9</td>\n",
       "      <td>0</td>\n",
       "      <td>130560</td>\n",
       "      <td>19968</td>\n",
       "      <td>0</td>\n",
       "      <td>...</td>\n",
       "      <td>2</td>\n",
       "      <td>4.250461</td>\n",
       "      <td>3.420744</td>\n",
       "      <td>5.080177</td>\n",
       "      <td>837.000000</td>\n",
       "      <td>518</td>\n",
       "      <td>1156</td>\n",
       "      <td>72</td>\n",
       "      <td>18</td>\n",
       "      <td>1</td>\n",
       "    </tr>\n",
       "    <tr>\n",
       "      <th>2</th>\n",
       "      <td>setup.exe</td>\n",
       "      <td>4d92f518527353c0db88a70fddcfd390</td>\n",
       "      <td>332</td>\n",
       "      <td>224</td>\n",
       "      <td>3330</td>\n",
       "      <td>9</td>\n",
       "      <td>0</td>\n",
       "      <td>517120</td>\n",
       "      <td>621568</td>\n",
       "      <td>0</td>\n",
       "      <td>...</td>\n",
       "      <td>11</td>\n",
       "      <td>4.426324</td>\n",
       "      <td>2.846449</td>\n",
       "      <td>5.271813</td>\n",
       "      <td>31102.272727</td>\n",
       "      <td>104</td>\n",
       "      <td>270376</td>\n",
       "      <td>72</td>\n",
       "      <td>18</td>\n",
       "      <td>1</td>\n",
       "    </tr>\n",
       "    <tr>\n",
       "      <th>3</th>\n",
       "      <td>DW20.EXE</td>\n",
       "      <td>a41e524f8d45f0074fd07805ff0c9b12</td>\n",
       "      <td>332</td>\n",
       "      <td>224</td>\n",
       "      <td>258</td>\n",
       "      <td>9</td>\n",
       "      <td>0</td>\n",
       "      <td>585728</td>\n",
       "      <td>369152</td>\n",
       "      <td>0</td>\n",
       "      <td>...</td>\n",
       "      <td>10</td>\n",
       "      <td>4.364291</td>\n",
       "      <td>2.669314</td>\n",
       "      <td>6.400720</td>\n",
       "      <td>1457.000000</td>\n",
       "      <td>90</td>\n",
       "      <td>4264</td>\n",
       "      <td>72</td>\n",
       "      <td>18</td>\n",
       "      <td>1</td>\n",
       "    </tr>\n",
       "    <tr>\n",
       "      <th>4</th>\n",
       "      <td>dwtrig20.exe</td>\n",
       "      <td>c87e561258f2f8650cef999bf643a731</td>\n",
       "      <td>332</td>\n",
       "      <td>224</td>\n",
       "      <td>258</td>\n",
       "      <td>9</td>\n",
       "      <td>0</td>\n",
       "      <td>294912</td>\n",
       "      <td>247296</td>\n",
       "      <td>0</td>\n",
       "      <td>...</td>\n",
       "      <td>2</td>\n",
       "      <td>4.306100</td>\n",
       "      <td>3.421598</td>\n",
       "      <td>5.190603</td>\n",
       "      <td>1074.500000</td>\n",
       "      <td>849</td>\n",
       "      <td>1300</td>\n",
       "      <td>72</td>\n",
       "      <td>18</td>\n",
       "      <td>1</td>\n",
       "    </tr>\n",
       "  </tbody>\n",
       "</table>\n",
       "<p>5 rows × 57 columns</p>\n",
       "</div>"
      ],
      "text/plain": [
       "           Name                               md5  Machine  \\\n",
       "0   memtest.exe  631ea355665f28d4707448e442fbf5b8      332   \n",
       "1       ose.exe  9d10f99a6712e28f8acd5641e3a7ea6b      332   \n",
       "2     setup.exe  4d92f518527353c0db88a70fddcfd390      332   \n",
       "3      DW20.EXE  a41e524f8d45f0074fd07805ff0c9b12      332   \n",
       "4  dwtrig20.exe  c87e561258f2f8650cef999bf643a731      332   \n",
       "\n",
       "   SizeOfOptionalHeader  Characteristics  MajorLinkerVersion  \\\n",
       "0                   224              258                   9   \n",
       "1                   224             3330                   9   \n",
       "2                   224             3330                   9   \n",
       "3                   224              258                   9   \n",
       "4                   224              258                   9   \n",
       "\n",
       "   MinorLinkerVersion  SizeOfCode  SizeOfInitializedData  \\\n",
       "0                   0      361984                 115712   \n",
       "1                   0      130560                  19968   \n",
       "2                   0      517120                 621568   \n",
       "3                   0      585728                 369152   \n",
       "4                   0      294912                 247296   \n",
       "\n",
       "   SizeOfUninitializedData  ...  ResourcesNb  ResourcesMeanEntropy  \\\n",
       "0                        0  ...            4              3.262823   \n",
       "1                        0  ...            2              4.250461   \n",
       "2                        0  ...           11              4.426324   \n",
       "3                        0  ...           10              4.364291   \n",
       "4                        0  ...            2              4.306100   \n",
       "\n",
       "   ResourcesMinEntropy  ResourcesMaxEntropy  ResourcesMeanSize  \\\n",
       "0             2.568844             3.537939        8797.000000   \n",
       "1             3.420744             5.080177         837.000000   \n",
       "2             2.846449             5.271813       31102.272727   \n",
       "3             2.669314             6.400720        1457.000000   \n",
       "4             3.421598             5.190603        1074.500000   \n",
       "\n",
       "   ResourcesMinSize  ResourcesMaxSize  LoadConfigurationSize  \\\n",
       "0               216             18032                      0   \n",
       "1               518              1156                     72   \n",
       "2               104            270376                     72   \n",
       "3                90              4264                     72   \n",
       "4               849              1300                     72   \n",
       "\n",
       "   VersionInformationSize  legitimate  \n",
       "0                      16           1  \n",
       "1                      18           1  \n",
       "2                      18           1  \n",
       "3                      18           1  \n",
       "4                      18           1  \n",
       "\n",
       "[5 rows x 57 columns]"
      ]
     },
     "execution_count": 2,
     "metadata": {},
     "output_type": "execute_result"
    }
   ],
   "source": [
    "dataset.head()    #Top 5 row of the dataset"
   ]
  },
  {
   "cell_type": "code",
   "execution_count": 3,
   "id": "aa839e66-580f-4968-ae49-cf60b496396b",
   "metadata": {},
   "outputs": [
    {
     "data": {
      "text/html": [
       "<div>\n",
       "<style scoped>\n",
       "    .dataframe tbody tr th:only-of-type {\n",
       "        vertical-align: middle;\n",
       "    }\n",
       "\n",
       "    .dataframe tbody tr th {\n",
       "        vertical-align: top;\n",
       "    }\n",
       "\n",
       "    .dataframe thead th {\n",
       "        text-align: right;\n",
       "    }\n",
       "</style>\n",
       "<table border=\"1\" class=\"dataframe\">\n",
       "  <thead>\n",
       "    <tr style=\"text-align: right;\">\n",
       "      <th></th>\n",
       "      <th>Name</th>\n",
       "      <th>md5</th>\n",
       "      <th>Machine</th>\n",
       "      <th>SizeOfOptionalHeader</th>\n",
       "      <th>Characteristics</th>\n",
       "      <th>MajorLinkerVersion</th>\n",
       "      <th>MinorLinkerVersion</th>\n",
       "      <th>SizeOfCode</th>\n",
       "      <th>SizeOfInitializedData</th>\n",
       "      <th>SizeOfUninitializedData</th>\n",
       "      <th>...</th>\n",
       "      <th>ResourcesNb</th>\n",
       "      <th>ResourcesMeanEntropy</th>\n",
       "      <th>ResourcesMinEntropy</th>\n",
       "      <th>ResourcesMaxEntropy</th>\n",
       "      <th>ResourcesMeanSize</th>\n",
       "      <th>ResourcesMinSize</th>\n",
       "      <th>ResourcesMaxSize</th>\n",
       "      <th>LoadConfigurationSize</th>\n",
       "      <th>VersionInformationSize</th>\n",
       "      <th>legitimate</th>\n",
       "    </tr>\n",
       "  </thead>\n",
       "  <tbody>\n",
       "    <tr>\n",
       "      <th>138042</th>\n",
       "      <td>VirusShare_8e292b418568d6e7b87f2a32aee7074b</td>\n",
       "      <td>8e292b418568d6e7b87f2a32aee7074b</td>\n",
       "      <td>332</td>\n",
       "      <td>224</td>\n",
       "      <td>258</td>\n",
       "      <td>11</td>\n",
       "      <td>0</td>\n",
       "      <td>205824</td>\n",
       "      <td>223744</td>\n",
       "      <td>0</td>\n",
       "      <td>...</td>\n",
       "      <td>7</td>\n",
       "      <td>4.122736</td>\n",
       "      <td>1.370260</td>\n",
       "      <td>7.677091</td>\n",
       "      <td>14900.714286</td>\n",
       "      <td>16</td>\n",
       "      <td>81654</td>\n",
       "      <td>72</td>\n",
       "      <td>0</td>\n",
       "      <td>0</td>\n",
       "    </tr>\n",
       "    <tr>\n",
       "      <th>138043</th>\n",
       "      <td>VirusShare_260d9e2258aed4c8a3bbd703ec895822</td>\n",
       "      <td>260d9e2258aed4c8a3bbd703ec895822</td>\n",
       "      <td>332</td>\n",
       "      <td>224</td>\n",
       "      <td>33167</td>\n",
       "      <td>2</td>\n",
       "      <td>25</td>\n",
       "      <td>37888</td>\n",
       "      <td>185344</td>\n",
       "      <td>0</td>\n",
       "      <td>...</td>\n",
       "      <td>26</td>\n",
       "      <td>3.377663</td>\n",
       "      <td>2.031619</td>\n",
       "      <td>5.050074</td>\n",
       "      <td>6905.846154</td>\n",
       "      <td>44</td>\n",
       "      <td>67624</td>\n",
       "      <td>0</td>\n",
       "      <td>15</td>\n",
       "      <td>0</td>\n",
       "    </tr>\n",
       "    <tr>\n",
       "      <th>138044</th>\n",
       "      <td>VirusShare_8d088a51b7d225c9f5d11d239791ec3f</td>\n",
       "      <td>8d088a51b7d225c9f5d11d239791ec3f</td>\n",
       "      <td>332</td>\n",
       "      <td>224</td>\n",
       "      <td>258</td>\n",
       "      <td>10</td>\n",
       "      <td>0</td>\n",
       "      <td>118272</td>\n",
       "      <td>380416</td>\n",
       "      <td>0</td>\n",
       "      <td>...</td>\n",
       "      <td>22</td>\n",
       "      <td>6.825406</td>\n",
       "      <td>2.617026</td>\n",
       "      <td>7.990487</td>\n",
       "      <td>14981.909091</td>\n",
       "      <td>48</td>\n",
       "      <td>22648</td>\n",
       "      <td>72</td>\n",
       "      <td>14</td>\n",
       "      <td>0</td>\n",
       "    </tr>\n",
       "    <tr>\n",
       "      <th>138045</th>\n",
       "      <td>VirusShare_4286dccf67ca220fe67635388229a9f3</td>\n",
       "      <td>4286dccf67ca220fe67635388229a9f3</td>\n",
       "      <td>332</td>\n",
       "      <td>224</td>\n",
       "      <td>33166</td>\n",
       "      <td>2</td>\n",
       "      <td>25</td>\n",
       "      <td>49152</td>\n",
       "      <td>16896</td>\n",
       "      <td>0</td>\n",
       "      <td>...</td>\n",
       "      <td>10</td>\n",
       "      <td>3.421627</td>\n",
       "      <td>2.060964</td>\n",
       "      <td>4.739744</td>\n",
       "      <td>601.600000</td>\n",
       "      <td>16</td>\n",
       "      <td>2216</td>\n",
       "      <td>0</td>\n",
       "      <td>0</td>\n",
       "      <td>0</td>\n",
       "    </tr>\n",
       "    <tr>\n",
       "      <th>138046</th>\n",
       "      <td>VirusShare_d7648eae45f09b3adb75127f43be6d11</td>\n",
       "      <td>d7648eae45f09b3adb75127f43be6d11</td>\n",
       "      <td>332</td>\n",
       "      <td>224</td>\n",
       "      <td>258</td>\n",
       "      <td>11</td>\n",
       "      <td>0</td>\n",
       "      <td>111616</td>\n",
       "      <td>468480</td>\n",
       "      <td>0</td>\n",
       "      <td>...</td>\n",
       "      <td>4</td>\n",
       "      <td>4.407252</td>\n",
       "      <td>1.980482</td>\n",
       "      <td>6.115374</td>\n",
       "      <td>96625.000000</td>\n",
       "      <td>20</td>\n",
       "      <td>318464</td>\n",
       "      <td>72</td>\n",
       "      <td>0</td>\n",
       "      <td>0</td>\n",
       "    </tr>\n",
       "  </tbody>\n",
       "</table>\n",
       "<p>5 rows × 57 columns</p>\n",
       "</div>"
      ],
      "text/plain": [
       "                                               Name  \\\n",
       "138042  VirusShare_8e292b418568d6e7b87f2a32aee7074b   \n",
       "138043  VirusShare_260d9e2258aed4c8a3bbd703ec895822   \n",
       "138044  VirusShare_8d088a51b7d225c9f5d11d239791ec3f   \n",
       "138045  VirusShare_4286dccf67ca220fe67635388229a9f3   \n",
       "138046  VirusShare_d7648eae45f09b3adb75127f43be6d11   \n",
       "\n",
       "                                     md5  Machine  SizeOfOptionalHeader  \\\n",
       "138042  8e292b418568d6e7b87f2a32aee7074b      332                   224   \n",
       "138043  260d9e2258aed4c8a3bbd703ec895822      332                   224   \n",
       "138044  8d088a51b7d225c9f5d11d239791ec3f      332                   224   \n",
       "138045  4286dccf67ca220fe67635388229a9f3      332                   224   \n",
       "138046  d7648eae45f09b3adb75127f43be6d11      332                   224   \n",
       "\n",
       "        Characteristics  MajorLinkerVersion  MinorLinkerVersion  SizeOfCode  \\\n",
       "138042              258                  11                   0      205824   \n",
       "138043            33167                   2                  25       37888   \n",
       "138044              258                  10                   0      118272   \n",
       "138045            33166                   2                  25       49152   \n",
       "138046              258                  11                   0      111616   \n",
       "\n",
       "        SizeOfInitializedData  SizeOfUninitializedData  ...  ResourcesNb  \\\n",
       "138042                 223744                        0  ...            7   \n",
       "138043                 185344                        0  ...           26   \n",
       "138044                 380416                        0  ...           22   \n",
       "138045                  16896                        0  ...           10   \n",
       "138046                 468480                        0  ...            4   \n",
       "\n",
       "        ResourcesMeanEntropy  ResourcesMinEntropy  ResourcesMaxEntropy  \\\n",
       "138042              4.122736             1.370260             7.677091   \n",
       "138043              3.377663             2.031619             5.050074   \n",
       "138044              6.825406             2.617026             7.990487   \n",
       "138045              3.421627             2.060964             4.739744   \n",
       "138046              4.407252             1.980482             6.115374   \n",
       "\n",
       "        ResourcesMeanSize  ResourcesMinSize  ResourcesMaxSize  \\\n",
       "138042       14900.714286                16             81654   \n",
       "138043        6905.846154                44             67624   \n",
       "138044       14981.909091                48             22648   \n",
       "138045         601.600000                16              2216   \n",
       "138046       96625.000000                20            318464   \n",
       "\n",
       "        LoadConfigurationSize  VersionInformationSize  legitimate  \n",
       "138042                     72                       0           0  \n",
       "138043                      0                      15           0  \n",
       "138044                     72                      14           0  \n",
       "138045                      0                       0           0  \n",
       "138046                     72                       0           0  \n",
       "\n",
       "[5 rows x 57 columns]"
      ]
     },
     "execution_count": 3,
     "metadata": {},
     "output_type": "execute_result"
    }
   ],
   "source": [
    "dataset.tail()     #Last 5 row of the dataset"
   ]
  },
  {
   "cell_type": "code",
   "execution_count": 4,
   "id": "9e64f6ec-a8a3-4d90-ad89-a12b94e87605",
   "metadata": {},
   "outputs": [
    {
     "data": {
      "text/plain": [
       "Index(['Name', 'md5', 'Machine', 'SizeOfOptionalHeader', 'Characteristics',\n",
       "       'MajorLinkerVersion', 'MinorLinkerVersion', 'SizeOfCode',\n",
       "       'SizeOfInitializedData', 'SizeOfUninitializedData',\n",
       "       'AddressOfEntryPoint', 'BaseOfCode', 'BaseOfData', 'ImageBase',\n",
       "       'SectionAlignment', 'FileAlignment', 'MajorOperatingSystemVersion',\n",
       "       'MinorOperatingSystemVersion', 'MajorImageVersion', 'MinorImageVersion',\n",
       "       'MajorSubsystemVersion', 'MinorSubsystemVersion', 'SizeOfImage',\n",
       "       'SizeOfHeaders', 'CheckSum', 'Subsystem', 'DllCharacteristics',\n",
       "       'SizeOfStackReserve', 'SizeOfStackCommit', 'SizeOfHeapReserve',\n",
       "       'SizeOfHeapCommit', 'LoaderFlags', 'NumberOfRvaAndSizes', 'SectionsNb',\n",
       "       'SectionsMeanEntropy', 'SectionsMinEntropy', 'SectionsMaxEntropy',\n",
       "       'SectionsMeanRawsize', 'SectionsMinRawsize', 'SectionMaxRawsize',\n",
       "       'SectionsMeanVirtualsize', 'SectionsMinVirtualsize',\n",
       "       'SectionMaxVirtualsize', 'ImportsNbDLL', 'ImportsNb',\n",
       "       'ImportsNbOrdinal', 'ExportNb', 'ResourcesNb', 'ResourcesMeanEntropy',\n",
       "       'ResourcesMinEntropy', 'ResourcesMaxEntropy', 'ResourcesMeanSize',\n",
       "       'ResourcesMinSize', 'ResourcesMaxSize', 'LoadConfigurationSize',\n",
       "       'VersionInformationSize', 'legitimate'],\n",
       "      dtype='object')"
      ]
     },
     "execution_count": 4,
     "metadata": {},
     "output_type": "execute_result"
    }
   ],
   "source": [
    "dataset.columns    # name of the columns"
   ]
  },
  {
   "cell_type": "code",
   "execution_count": 5,
   "id": "f73017bd-9441-4845-aa36-de4b1a77839e",
   "metadata": {},
   "outputs": [
    {
     "data": {
      "text/html": [
       "<div>\n",
       "<style scoped>\n",
       "    .dataframe tbody tr th:only-of-type {\n",
       "        vertical-align: middle;\n",
       "    }\n",
       "\n",
       "    .dataframe tbody tr th {\n",
       "        vertical-align: top;\n",
       "    }\n",
       "\n",
       "    .dataframe thead th {\n",
       "        text-align: right;\n",
       "    }\n",
       "</style>\n",
       "<table border=\"1\" class=\"dataframe\">\n",
       "  <thead>\n",
       "    <tr style=\"text-align: right;\">\n",
       "      <th></th>\n",
       "      <th>Name</th>\n",
       "      <th>md5</th>\n",
       "      <th>Machine</th>\n",
       "      <th>SizeOfOptionalHeader</th>\n",
       "      <th>Characteristics</th>\n",
       "      <th>MajorLinkerVersion</th>\n",
       "      <th>MinorLinkerVersion</th>\n",
       "      <th>SizeOfCode</th>\n",
       "      <th>SizeOfInitializedData</th>\n",
       "      <th>SizeOfUninitializedData</th>\n",
       "      <th>...</th>\n",
       "      <th>ResourcesNb</th>\n",
       "      <th>ResourcesMeanEntropy</th>\n",
       "      <th>ResourcesMinEntropy</th>\n",
       "      <th>ResourcesMaxEntropy</th>\n",
       "      <th>ResourcesMeanSize</th>\n",
       "      <th>ResourcesMinSize</th>\n",
       "      <th>ResourcesMaxSize</th>\n",
       "      <th>LoadConfigurationSize</th>\n",
       "      <th>VersionInformationSize</th>\n",
       "      <th>legitimate</th>\n",
       "    </tr>\n",
       "  </thead>\n",
       "  <tbody>\n",
       "    <tr>\n",
       "      <th>count</th>\n",
       "      <td>138047</td>\n",
       "      <td>138047</td>\n",
       "      <td>138047.000000</td>\n",
       "      <td>138047.000000</td>\n",
       "      <td>138047.000000</td>\n",
       "      <td>138047.000000</td>\n",
       "      <td>138047.000000</td>\n",
       "      <td>1.380470e+05</td>\n",
       "      <td>1.380470e+05</td>\n",
       "      <td>1.380470e+05</td>\n",
       "      <td>...</td>\n",
       "      <td>138047.000000</td>\n",
       "      <td>138047.000000</td>\n",
       "      <td>138047.000000</td>\n",
       "      <td>138047.000000</td>\n",
       "      <td>1.380470e+05</td>\n",
       "      <td>1.380470e+05</td>\n",
       "      <td>1.380470e+05</td>\n",
       "      <td>1.380470e+05</td>\n",
       "      <td>138047.000000</td>\n",
       "      <td>138047.000000</td>\n",
       "    </tr>\n",
       "    <tr>\n",
       "      <th>unique</th>\n",
       "      <td>107488</td>\n",
       "      <td>138047</td>\n",
       "      <td>NaN</td>\n",
       "      <td>NaN</td>\n",
       "      <td>NaN</td>\n",
       "      <td>NaN</td>\n",
       "      <td>NaN</td>\n",
       "      <td>NaN</td>\n",
       "      <td>NaN</td>\n",
       "      <td>NaN</td>\n",
       "      <td>...</td>\n",
       "      <td>NaN</td>\n",
       "      <td>NaN</td>\n",
       "      <td>NaN</td>\n",
       "      <td>NaN</td>\n",
       "      <td>NaN</td>\n",
       "      <td>NaN</td>\n",
       "      <td>NaN</td>\n",
       "      <td>NaN</td>\n",
       "      <td>NaN</td>\n",
       "      <td>NaN</td>\n",
       "    </tr>\n",
       "    <tr>\n",
       "      <th>top</th>\n",
       "      <td>mshtml.dll</td>\n",
       "      <td>631ea355665f28d4707448e442fbf5b8</td>\n",
       "      <td>NaN</td>\n",
       "      <td>NaN</td>\n",
       "      <td>NaN</td>\n",
       "      <td>NaN</td>\n",
       "      <td>NaN</td>\n",
       "      <td>NaN</td>\n",
       "      <td>NaN</td>\n",
       "      <td>NaN</td>\n",
       "      <td>...</td>\n",
       "      <td>NaN</td>\n",
       "      <td>NaN</td>\n",
       "      <td>NaN</td>\n",
       "      <td>NaN</td>\n",
       "      <td>NaN</td>\n",
       "      <td>NaN</td>\n",
       "      <td>NaN</td>\n",
       "      <td>NaN</td>\n",
       "      <td>NaN</td>\n",
       "      <td>NaN</td>\n",
       "    </tr>\n",
       "    <tr>\n",
       "      <th>freq</th>\n",
       "      <td>187</td>\n",
       "      <td>1</td>\n",
       "      <td>NaN</td>\n",
       "      <td>NaN</td>\n",
       "      <td>NaN</td>\n",
       "      <td>NaN</td>\n",
       "      <td>NaN</td>\n",
       "      <td>NaN</td>\n",
       "      <td>NaN</td>\n",
       "      <td>NaN</td>\n",
       "      <td>...</td>\n",
       "      <td>NaN</td>\n",
       "      <td>NaN</td>\n",
       "      <td>NaN</td>\n",
       "      <td>NaN</td>\n",
       "      <td>NaN</td>\n",
       "      <td>NaN</td>\n",
       "      <td>NaN</td>\n",
       "      <td>NaN</td>\n",
       "      <td>NaN</td>\n",
       "      <td>NaN</td>\n",
       "    </tr>\n",
       "    <tr>\n",
       "      <th>mean</th>\n",
       "      <td>NaN</td>\n",
       "      <td>NaN</td>\n",
       "      <td>4259.069274</td>\n",
       "      <td>225.845632</td>\n",
       "      <td>4444.145994</td>\n",
       "      <td>8.619774</td>\n",
       "      <td>3.819286</td>\n",
       "      <td>2.425956e+05</td>\n",
       "      <td>4.504867e+05</td>\n",
       "      <td>1.009525e+05</td>\n",
       "      <td>...</td>\n",
       "      <td>22.050700</td>\n",
       "      <td>4.000127</td>\n",
       "      <td>2.434541</td>\n",
       "      <td>5.521610</td>\n",
       "      <td>5.545093e+04</td>\n",
       "      <td>1.818082e+04</td>\n",
       "      <td>2.465903e+05</td>\n",
       "      <td>4.656750e+05</td>\n",
       "      <td>12.363115</td>\n",
       "      <td>0.299340</td>\n",
       "    </tr>\n",
       "    <tr>\n",
       "      <th>std</th>\n",
       "      <td>NaN</td>\n",
       "      <td>NaN</td>\n",
       "      <td>10880.347245</td>\n",
       "      <td>5.121399</td>\n",
       "      <td>8186.782524</td>\n",
       "      <td>4.088757</td>\n",
       "      <td>11.862675</td>\n",
       "      <td>5.754485e+06</td>\n",
       "      <td>2.101599e+07</td>\n",
       "      <td>1.635288e+07</td>\n",
       "      <td>...</td>\n",
       "      <td>136.494244</td>\n",
       "      <td>1.112981</td>\n",
       "      <td>0.815577</td>\n",
       "      <td>1.597403</td>\n",
       "      <td>7.799163e+06</td>\n",
       "      <td>6.502369e+06</td>\n",
       "      <td>2.124860e+07</td>\n",
       "      <td>2.608987e+07</td>\n",
       "      <td>6.798878</td>\n",
       "      <td>0.457971</td>\n",
       "    </tr>\n",
       "    <tr>\n",
       "      <th>min</th>\n",
       "      <td>NaN</td>\n",
       "      <td>NaN</td>\n",
       "      <td>332.000000</td>\n",
       "      <td>224.000000</td>\n",
       "      <td>2.000000</td>\n",
       "      <td>0.000000</td>\n",
       "      <td>0.000000</td>\n",
       "      <td>0.000000e+00</td>\n",
       "      <td>0.000000e+00</td>\n",
       "      <td>0.000000e+00</td>\n",
       "      <td>...</td>\n",
       "      <td>0.000000</td>\n",
       "      <td>0.000000</td>\n",
       "      <td>0.000000</td>\n",
       "      <td>0.000000</td>\n",
       "      <td>0.000000e+00</td>\n",
       "      <td>0.000000e+00</td>\n",
       "      <td>0.000000e+00</td>\n",
       "      <td>0.000000e+00</td>\n",
       "      <td>0.000000</td>\n",
       "      <td>0.000000</td>\n",
       "    </tr>\n",
       "    <tr>\n",
       "      <th>25%</th>\n",
       "      <td>NaN</td>\n",
       "      <td>NaN</td>\n",
       "      <td>332.000000</td>\n",
       "      <td>224.000000</td>\n",
       "      <td>258.000000</td>\n",
       "      <td>8.000000</td>\n",
       "      <td>0.000000</td>\n",
       "      <td>3.020800e+04</td>\n",
       "      <td>2.457600e+04</td>\n",
       "      <td>0.000000e+00</td>\n",
       "      <td>...</td>\n",
       "      <td>5.000000</td>\n",
       "      <td>3.458505</td>\n",
       "      <td>2.178748</td>\n",
       "      <td>4.828706</td>\n",
       "      <td>9.560000e+02</td>\n",
       "      <td>4.800000e+01</td>\n",
       "      <td>2.216000e+03</td>\n",
       "      <td>0.000000e+00</td>\n",
       "      <td>13.000000</td>\n",
       "      <td>0.000000</td>\n",
       "    </tr>\n",
       "    <tr>\n",
       "      <th>50%</th>\n",
       "      <td>NaN</td>\n",
       "      <td>NaN</td>\n",
       "      <td>332.000000</td>\n",
       "      <td>224.000000</td>\n",
       "      <td>258.000000</td>\n",
       "      <td>9.000000</td>\n",
       "      <td>0.000000</td>\n",
       "      <td>1.136640e+05</td>\n",
       "      <td>2.631680e+05</td>\n",
       "      <td>0.000000e+00</td>\n",
       "      <td>...</td>\n",
       "      <td>6.000000</td>\n",
       "      <td>3.729824</td>\n",
       "      <td>2.458492</td>\n",
       "      <td>5.317552</td>\n",
       "      <td>2.708154e+03</td>\n",
       "      <td>4.800000e+01</td>\n",
       "      <td>9.640000e+03</td>\n",
       "      <td>7.200000e+01</td>\n",
       "      <td>15.000000</td>\n",
       "      <td>0.000000</td>\n",
       "    </tr>\n",
       "    <tr>\n",
       "      <th>75%</th>\n",
       "      <td>NaN</td>\n",
       "      <td>NaN</td>\n",
       "      <td>332.000000</td>\n",
       "      <td>224.000000</td>\n",
       "      <td>8226.000000</td>\n",
       "      <td>10.000000</td>\n",
       "      <td>0.000000</td>\n",
       "      <td>1.203200e+05</td>\n",
       "      <td>3.850240e+05</td>\n",
       "      <td>0.000000e+00</td>\n",
       "      <td>...</td>\n",
       "      <td>13.000000</td>\n",
       "      <td>4.233051</td>\n",
       "      <td>2.696833</td>\n",
       "      <td>6.502239</td>\n",
       "      <td>6.558429e+03</td>\n",
       "      <td>1.320000e+02</td>\n",
       "      <td>2.378000e+04</td>\n",
       "      <td>7.200000e+01</td>\n",
       "      <td>16.000000</td>\n",
       "      <td>1.000000</td>\n",
       "    </tr>\n",
       "    <tr>\n",
       "      <th>max</th>\n",
       "      <td>NaN</td>\n",
       "      <td>NaN</td>\n",
       "      <td>34404.000000</td>\n",
       "      <td>352.000000</td>\n",
       "      <td>49551.000000</td>\n",
       "      <td>255.000000</td>\n",
       "      <td>255.000000</td>\n",
       "      <td>1.818587e+09</td>\n",
       "      <td>4.294966e+09</td>\n",
       "      <td>4.294941e+09</td>\n",
       "      <td>...</td>\n",
       "      <td>7694.000000</td>\n",
       "      <td>7.999723</td>\n",
       "      <td>7.999723</td>\n",
       "      <td>8.000000</td>\n",
       "      <td>2.415919e+09</td>\n",
       "      <td>2.415919e+09</td>\n",
       "      <td>4.294903e+09</td>\n",
       "      <td>4.294967e+09</td>\n",
       "      <td>26.000000</td>\n",
       "      <td>1.000000</td>\n",
       "    </tr>\n",
       "  </tbody>\n",
       "</table>\n",
       "<p>11 rows × 57 columns</p>\n",
       "</div>"
      ],
      "text/plain": [
       "              Name                               md5        Machine  \\\n",
       "count       138047                            138047  138047.000000   \n",
       "unique      107488                            138047            NaN   \n",
       "top     mshtml.dll  631ea355665f28d4707448e442fbf5b8            NaN   \n",
       "freq           187                                 1            NaN   \n",
       "mean           NaN                               NaN    4259.069274   \n",
       "std            NaN                               NaN   10880.347245   \n",
       "min            NaN                               NaN     332.000000   \n",
       "25%            NaN                               NaN     332.000000   \n",
       "50%            NaN                               NaN     332.000000   \n",
       "75%            NaN                               NaN     332.000000   \n",
       "max            NaN                               NaN   34404.000000   \n",
       "\n",
       "        SizeOfOptionalHeader  Characteristics  MajorLinkerVersion  \\\n",
       "count          138047.000000    138047.000000       138047.000000   \n",
       "unique                   NaN              NaN                 NaN   \n",
       "top                      NaN              NaN                 NaN   \n",
       "freq                     NaN              NaN                 NaN   \n",
       "mean              225.845632      4444.145994            8.619774   \n",
       "std                 5.121399      8186.782524            4.088757   \n",
       "min               224.000000         2.000000            0.000000   \n",
       "25%               224.000000       258.000000            8.000000   \n",
       "50%               224.000000       258.000000            9.000000   \n",
       "75%               224.000000      8226.000000           10.000000   \n",
       "max               352.000000     49551.000000          255.000000   \n",
       "\n",
       "        MinorLinkerVersion    SizeOfCode  SizeOfInitializedData  \\\n",
       "count        138047.000000  1.380470e+05           1.380470e+05   \n",
       "unique                 NaN           NaN                    NaN   \n",
       "top                    NaN           NaN                    NaN   \n",
       "freq                   NaN           NaN                    NaN   \n",
       "mean              3.819286  2.425956e+05           4.504867e+05   \n",
       "std              11.862675  5.754485e+06           2.101599e+07   \n",
       "min               0.000000  0.000000e+00           0.000000e+00   \n",
       "25%               0.000000  3.020800e+04           2.457600e+04   \n",
       "50%               0.000000  1.136640e+05           2.631680e+05   \n",
       "75%               0.000000  1.203200e+05           3.850240e+05   \n",
       "max             255.000000  1.818587e+09           4.294966e+09   \n",
       "\n",
       "        SizeOfUninitializedData  ...    ResourcesNb  ResourcesMeanEntropy  \\\n",
       "count              1.380470e+05  ...  138047.000000         138047.000000   \n",
       "unique                      NaN  ...            NaN                   NaN   \n",
       "top                         NaN  ...            NaN                   NaN   \n",
       "freq                        NaN  ...            NaN                   NaN   \n",
       "mean               1.009525e+05  ...      22.050700              4.000127   \n",
       "std                1.635288e+07  ...     136.494244              1.112981   \n",
       "min                0.000000e+00  ...       0.000000              0.000000   \n",
       "25%                0.000000e+00  ...       5.000000              3.458505   \n",
       "50%                0.000000e+00  ...       6.000000              3.729824   \n",
       "75%                0.000000e+00  ...      13.000000              4.233051   \n",
       "max                4.294941e+09  ...    7694.000000              7.999723   \n",
       "\n",
       "        ResourcesMinEntropy  ResourcesMaxEntropy  ResourcesMeanSize  \\\n",
       "count         138047.000000        138047.000000       1.380470e+05   \n",
       "unique                  NaN                  NaN                NaN   \n",
       "top                     NaN                  NaN                NaN   \n",
       "freq                    NaN                  NaN                NaN   \n",
       "mean               2.434541             5.521610       5.545093e+04   \n",
       "std                0.815577             1.597403       7.799163e+06   \n",
       "min                0.000000             0.000000       0.000000e+00   \n",
       "25%                2.178748             4.828706       9.560000e+02   \n",
       "50%                2.458492             5.317552       2.708154e+03   \n",
       "75%                2.696833             6.502239       6.558429e+03   \n",
       "max                7.999723             8.000000       2.415919e+09   \n",
       "\n",
       "        ResourcesMinSize  ResourcesMaxSize  LoadConfigurationSize  \\\n",
       "count       1.380470e+05      1.380470e+05           1.380470e+05   \n",
       "unique               NaN               NaN                    NaN   \n",
       "top                  NaN               NaN                    NaN   \n",
       "freq                 NaN               NaN                    NaN   \n",
       "mean        1.818082e+04      2.465903e+05           4.656750e+05   \n",
       "std         6.502369e+06      2.124860e+07           2.608987e+07   \n",
       "min         0.000000e+00      0.000000e+00           0.000000e+00   \n",
       "25%         4.800000e+01      2.216000e+03           0.000000e+00   \n",
       "50%         4.800000e+01      9.640000e+03           7.200000e+01   \n",
       "75%         1.320000e+02      2.378000e+04           7.200000e+01   \n",
       "max         2.415919e+09      4.294903e+09           4.294967e+09   \n",
       "\n",
       "        VersionInformationSize     legitimate  \n",
       "count            138047.000000  138047.000000  \n",
       "unique                     NaN            NaN  \n",
       "top                        NaN            NaN  \n",
       "freq                       NaN            NaN  \n",
       "mean                 12.363115       0.299340  \n",
       "std                   6.798878       0.457971  \n",
       "min                   0.000000       0.000000  \n",
       "25%                  13.000000       0.000000  \n",
       "50%                  15.000000       0.000000  \n",
       "75%                  16.000000       1.000000  \n",
       "max                  26.000000       1.000000  \n",
       "\n",
       "[11 rows x 57 columns]"
      ]
     },
     "execution_count": 5,
     "metadata": {},
     "output_type": "execute_result"
    }
   ],
   "source": [
    "dataset.describe(include=\"all\")    # summary of numeric attributes"
   ]
  },
  {
   "cell_type": "code",
   "execution_count": 6,
   "id": "a53ee93a-920f-495c-8940-41847a4195ca",
   "metadata": {},
   "outputs": [
    {
     "name": "stdout",
     "output_type": "stream",
     "text": [
      "<class 'pandas.core.frame.DataFrame'>\n",
      "RangeIndex: 138047 entries, 0 to 138046\n",
      "Data columns (total 57 columns):\n",
      " #   Column                       Non-Null Count   Dtype  \n",
      "---  ------                       --------------   -----  \n",
      " 0   Name                         138047 non-null  object \n",
      " 1   md5                          138047 non-null  object \n",
      " 2   Machine                      138047 non-null  int64  \n",
      " 3   SizeOfOptionalHeader         138047 non-null  int64  \n",
      " 4   Characteristics              138047 non-null  int64  \n",
      " 5   MajorLinkerVersion           138047 non-null  int64  \n",
      " 6   MinorLinkerVersion           138047 non-null  int64  \n",
      " 7   SizeOfCode                   138047 non-null  int64  \n",
      " 8   SizeOfInitializedData        138047 non-null  int64  \n",
      " 9   SizeOfUninitializedData      138047 non-null  int64  \n",
      " 10  AddressOfEntryPoint          138047 non-null  int64  \n",
      " 11  BaseOfCode                   138047 non-null  int64  \n",
      " 12  BaseOfData                   138047 non-null  int64  \n",
      " 13  ImageBase                    138047 non-null  float64\n",
      " 14  SectionAlignment             138047 non-null  int64  \n",
      " 15  FileAlignment                138047 non-null  int64  \n",
      " 16  MajorOperatingSystemVersion  138047 non-null  int64  \n",
      " 17  MinorOperatingSystemVersion  138047 non-null  int64  \n",
      " 18  MajorImageVersion            138047 non-null  int64  \n",
      " 19  MinorImageVersion            138047 non-null  int64  \n",
      " 20  MajorSubsystemVersion        138047 non-null  int64  \n",
      " 21  MinorSubsystemVersion        138047 non-null  int64  \n",
      " 22  SizeOfImage                  138047 non-null  int64  \n",
      " 23  SizeOfHeaders                138047 non-null  int64  \n",
      " 24  CheckSum                     138047 non-null  int64  \n",
      " 25  Subsystem                    138047 non-null  int64  \n",
      " 26  DllCharacteristics           138047 non-null  int64  \n",
      " 27  SizeOfStackReserve           138047 non-null  int64  \n",
      " 28  SizeOfStackCommit            138047 non-null  int64  \n",
      " 29  SizeOfHeapReserve            138047 non-null  int64  \n",
      " 30  SizeOfHeapCommit             138047 non-null  int64  \n",
      " 31  LoaderFlags                  138047 non-null  int64  \n",
      " 32  NumberOfRvaAndSizes          138047 non-null  int64  \n",
      " 33  SectionsNb                   138047 non-null  int64  \n",
      " 34  SectionsMeanEntropy          138047 non-null  float64\n",
      " 35  SectionsMinEntropy           138047 non-null  float64\n",
      " 36  SectionsMaxEntropy           138047 non-null  float64\n",
      " 37  SectionsMeanRawsize          138047 non-null  float64\n",
      " 38  SectionsMinRawsize           138047 non-null  int64  \n",
      " 39  SectionMaxRawsize            138047 non-null  int64  \n",
      " 40  SectionsMeanVirtualsize      138047 non-null  float64\n",
      " 41  SectionsMinVirtualsize       138047 non-null  int64  \n",
      " 42  SectionMaxVirtualsize        138047 non-null  int64  \n",
      " 43  ImportsNbDLL                 138047 non-null  int64  \n",
      " 44  ImportsNb                    138047 non-null  int64  \n",
      " 45  ImportsNbOrdinal             138047 non-null  int64  \n",
      " 46  ExportNb                     138047 non-null  int64  \n",
      " 47  ResourcesNb                  138047 non-null  int64  \n",
      " 48  ResourcesMeanEntropy         138047 non-null  float64\n",
      " 49  ResourcesMinEntropy          138047 non-null  float64\n",
      " 50  ResourcesMaxEntropy          138047 non-null  float64\n",
      " 51  ResourcesMeanSize            138047 non-null  float64\n",
      " 52  ResourcesMinSize             138047 non-null  int64  \n",
      " 53  ResourcesMaxSize             138047 non-null  int64  \n",
      " 54  LoadConfigurationSize        138047 non-null  int64  \n",
      " 55  VersionInformationSize       138047 non-null  int64  \n",
      " 56  legitimate                   138047 non-null  int64  \n",
      "dtypes: float64(10), int64(45), object(2)\n",
      "memory usage: 60.0+ MB\n"
     ]
    }
   ],
   "source": [
    "dataset.info()    # info about the whole dataset"
   ]
  },
  {
   "cell_type": "code",
   "execution_count": 7,
   "id": "2637879f-fe2b-4003-b440-2e3856fa5774",
   "metadata": {},
   "outputs": [
    {
     "data": {
      "text/plain": [
       "legitimate\n",
       "0    96724\n",
       "1    41323\n",
       "Name: count, dtype: int64"
      ]
     },
     "execution_count": 7,
     "metadata": {},
     "output_type": "execute_result"
    }
   ],
   "source": [
    "dataset[\"legitimate\"].value_counts()    # count of malware (0) and benign (1) files in dataset"
   ]
  },
  {
   "cell_type": "markdown",
   "id": "84a8ff48-d115-44e0-8c74-325c9d3f8fcd",
   "metadata": {},
   "source": [
    "#### Visualization"
   ]
  },
  {
   "cell_type": "code",
   "execution_count": 8,
   "id": "c036b56f-12c0-4e3c-8574-96bcb5aee5cc",
   "metadata": {},
   "outputs": [
    {
     "data": {
      "image/png": "[encoded data removed]",
      "text/plain": [
       "<Figure size 640x480 with 1 Axes>"
      ]
     },
     "metadata": {},
     "output_type": "display_data"
    }
   ],
   "source": [
    "import matplotlib.pyplot as plt\n",
    "\n",
    "dataset[\"legitimate\"].value_counts().plot(kind=\"pie\",autopct=\"%1.1f%%\")\n",
    "plt.show()"
   ]
  },
  {
   "cell_type": "code",
   "execution_count": 9,
   "id": "fa36411d-743b-414e-af44-57a8f1dc0b31",
   "metadata": {},
   "outputs": [],
   "source": [
    "import os\n",
    "import pandas\n",
    "import numpy\n",
    "import pickle\n",
    "import pefile\n",
    "import sklearn.ensemble as ek\n",
    "from sklearn.feature_selection import SelectFromModel\n",
    "import joblib\n",
    "from sklearn.tree import DecisionTreeClassifier\n",
    "from sklearn.metrics import confusion_matrix\n",
    "from sklearn import svm\n",
    "import sklearn.metrics as metrics"
   ]
  },
  {
   "cell_type": "markdown",
   "id": "c013252a-cb81-4459-bf20-d82a97cb8951",
   "metadata": {},
   "source": [
    "#### Feature Selection"
   ]
  },
  {
   "cell_type": "code",
   "execution_count": 10,
   "id": "b8f71e6a-a501-471c-9267-aa3063317450",
   "metadata": {},
   "outputs": [],
   "source": [
    "# Feature\n",
    "X = dataset.drop(['Name','md5','legitimate'],axis=1).values    #Droping this because classification model will not accept object type elements (float and int only)\n",
    "# Target variable\n",
    "y = dataset['legitimate'].values"
   ]
  },
  {
   "cell_type": "markdown",
   "id": "6785f64e-9fd1-48bd-8528-03b687073929",
   "metadata": {},
   "source": [
    "#### Data Fitting and choosing the important variables"
   ]
  },
  {
   "cell_type": "code",
   "execution_count": 11,
   "id": "7914a9ba",
   "metadata": {},
   "outputs": [],
   "source": [
    "extratrees = ek.ExtraTreesClassifier().fit(X,y)\n",
    "model = SelectFromModel(extratrees, prefit=True)\n",
    "X_new = model.transform(X)\n",
    "nbfeatures = X_new.shape[1]"
   ]
  },
  {
   "cell_type": "code",
   "execution_count": 12,
   "id": "caea8457-39be-4d2b-9a7b-1a45135b112a",
   "metadata": {},
   "outputs": [],
   "source": [
    "extratrees = ek.ExtraTreesClassifier().fit(X,y)\n",
    "model = SelectFromModel(extratrees, prefit=True)\n",
    "X_new = model.transform(X)\n",
    "nbfeatures = X_new.shape[1]"
   ]
  },
  {
   "cell_type": "code",
   "execution_count": 13,
   "id": "af897698-7abe-4a2c-9b70-6774a0738e8d",
   "metadata": {},
   "outputs": [
    {
     "data": {
      "text/plain": [
       "14"
      ]
     },
     "execution_count": 13,
     "metadata": {},
     "output_type": "execute_result"
    }
   ],
   "source": [
    "#Number of important features\n",
    "nbfeatures"
   ]
  },
  {
   "cell_type": "code",
   "execution_count": 14,
   "id": "828c07b9-f6f2-40aa-a6d2-a1d86d7fdf70",
   "metadata": {},
   "outputs": [],
   "source": [
    "#splitting the data (70% - training and 30% - testing)\n",
    "\n",
    "from sklearn.model_selection import train_test_split\n",
    "X_train, X_test, y_train, y_test = train_test_split(X_new, y ,test_size=0.29, stratify = y)"
   ]
  },
  {
   "cell_type": "code",
   "execution_count": 15,
   "id": "82254f8a-3e23-4660-9ff4-e178e5a5c48b",
   "metadata": {},
   "outputs": [],
   "source": [
    "features = []\n",
    "index = numpy.argsort(extratrees.feature_importances_)[::-1][:nbfeatures]"
   ]
  },
  {
   "cell_type": "markdown",
   "id": "8c2a29fa-1cfa-4611-a79a-0a5c967f89b5",
   "metadata": {},
   "source": [
    "#### All the required features"
   ]
  },
  {
   "cell_type": "code",
   "execution_count": 16,
   "id": "505da441-d292-4e8c-a517-26cca9ceed82",
   "metadata": {},
   "outputs": [
    {
     "name": "stdout",
     "output_type": "stream",
     "text": [
      "1. feature DllCharacteristics (0.157282)\n",
      "2. feature Machine (0.122145)\n",
      "3. feature Characteristics (0.110874)\n",
      "4. feature VersionInformationSize (0.063302)\n",
      "5. feature SectionsMaxEntropy (0.059563)\n",
      "6. feature Subsystem (0.055740)\n",
      "7. feature ImageBase (0.054704)\n",
      "8. feature ResourcesMaxEntropy (0.042180)\n",
      "9. feature MajorSubsystemVersion (0.038097)\n",
      "10. feature SizeOfOptionalHeader (0.031884)\n",
      "11. feature MajorOperatingSystemVersion (0.028611)\n",
      "12. feature ResourcesMinEntropy (0.023071)\n",
      "13. feature SizeOfStackReserve (0.019632)\n",
      "14. feature SectionsMeanEntropy (0.018942)\n"
     ]
    }
   ],
   "source": [
    "for f in range(nbfeatures):\n",
    "    print(\"%d. feature %s (%f)\" % (f + 1, dataset.columns[2+index[f]], extratrees.feature_importances_[index[f]]))\n",
    "    features.append(dataset.columns[2+f])"
   ]
  },
  {
   "cell_type": "markdown",
   "id": "07425aec-0f99-4fe9-ad4e-5a7f30837b4f",
   "metadata": {},
   "source": [
    "#### Testing which Classifier will give better result"
   ]
  },
  {
   "cell_type": "code",
   "execution_count": 17,
   "id": "e02d04d3-52d9-4be3-a18f-bc5c88819b5c",
   "metadata": {},
   "outputs": [],
   "source": [
    "model = { \"DecisionTree\": DecisionTreeClassifier(max_depth=10),\n",
    "         \"RandomForest\":ek.RandomForestClassifier(n_estimators=50)}"
   ]
  },
  {
   "cell_type": "code",
   "execution_count": 18,
   "id": "9766934c-791d-42b6-ae57-b876a454ca0d",
   "metadata": {},
   "outputs": [
    {
     "name": "stdout",
     "output_type": "stream",
     "text": [
      "DecisionTree : 0.990632961982315 \n",
      "RandomForest : 0.9935804566118799 \n"
     ]
    }
   ],
   "source": [
    "results = {}\n",
    "for algo in model:\n",
    "    clf = model[algo]\n",
    "    clf.fit(X_train,y_train)\n",
    "    score = clf.score(X_test,y_test)\n",
    "    print (\"%s : %s \" %(algo, score))\n",
    "    results[algo] = score"
   ]
  },
  {
   "cell_type": "code",
   "execution_count": 19,
   "id": "4aedd363-431c-41f5-98ab-2d7195b517d5",
   "metadata": {},
   "outputs": [
    {
     "name": "stdout",
     "output_type": "stream",
     "text": [
      "Using RandomForest for classification, with 14 features.\n"
     ]
    }
   ],
   "source": [
    "winner = max(results, key=results.get)# Selecting the classifier with good result\n",
    "print(\"Using\", winner, \"for classification, with\",len(features), 'features.')"
   ]
  },
  {
   "cell_type": "markdown",
   "id": "600daaa2-79bb-4f5f-8b52-d222aa767a07",
   "metadata": {},
   "source": [
    "#### Saving the machine as classifier.pkl and features to be extracted as features.pkl"
   ]
  },
  {
   "cell_type": "code",
   "execution_count": 20,
   "id": "61ef334b-949b-46f7-89e3-b0bf7be83fa0",
   "metadata": {},
   "outputs": [
    {
     "data": {
      "text/plain": [
       "267"
      ]
     },
     "execution_count": 20,
     "metadata": {},
     "output_type": "execute_result"
    }
   ],
   "source": [
    "joblib.dump(model[winner],'classifier.pkl')\n",
    "open('features.pkl', 'wb').write(pickle.dumps(features))"
   ]
  },
  {
   "cell_type": "markdown",
   "id": "5af56a88-842d-4cef-ac16-b4362b181618",
   "metadata": {},
   "source": [
    "#### Loading the classifier and features"
   ]
  },
  {
   "cell_type": "code",
   "execution_count": 21,
   "id": "d480d113-d542-459f-8cfa-abc5b755394c",
   "metadata": {},
   "outputs": [],
   "source": [
    "# Load classifier\n",
    "clf = joblib.load('classifier.pkl')\n",
    "#load features\n",
    "features = pickle.loads(open(os.path.join('features.pkl'),'rb').read())"
   ]
  },
  {
   "cell_type": "markdown",
   "id": "54454308",
   "metadata": {},
   "source": [
    "# With OneAPI tools"
   ]
  },
  {
   "cell_type": "code",
   "execution_count": 22,
   "id": "cc0998af",
   "metadata": {},
   "outputs": [
    {
     "name": "stdout",
     "output_type": "stream",
     "text": [
      "Without OneApi tools\n"
     ]
    },
    {
     "name": "stdout",
     "output_type": "stream",
     "text": [
      "487 ms ± 9.33 ms per loop (mean ± std. dev. of 7 runs, 1 loop each)\n",
      "With OneApi tools\n"
     ]
    },
    {
     "name": "stderr",
     "output_type": "stream",
     "text": [
      "2024-04-05 11:44:57,807\tINFO util.py:154 -- Missing packages: ['ipywidgets']. Run `pip install -U ipywidgets`, then restart the notebook server for rich notebook output.\n",
      "2024-04-05 11:45:05,098\tINFO worker.py:1752 -- Started a local Ray instance.\n",
      "2024-04-05 11:45:08,334\tINFO util.py:154 -- Missing packages: ['ipywidgets']. Run `pip install -U ipywidgets`, then restart the notebook server for rich notebook output.\n",
      "UserWarning: `read_*` implementation has mismatches with pandas:\n",
      "Data types of partitions are different! Please refer to the troubleshooting section of the Modin documentation to fix this issue.\n"
     ]
    },
    {
     "name": "stdout",
     "output_type": "stream",
     "text": [
      "272 ms ± 17.3 ms per loop (mean ± std. dev. of 7 runs, 1 loop each)\n"
     ]
    }
   ],
   "source": [
    "import modin.pandas as md\n",
    "\n",
    "print(\"Without OneApi tools\")\n",
    "%timeit dataset = pd.read_csv('../Dataset/data.csv', sep='|') #487 ms ± 12.9 ms per loop (mean ± std. dev. of 7 runs, 1 loop each)\n",
    "\n",
    "\n",
    "print(\"With OneApi tools\")\n",
    "%timeit dataset_modin = md.read_csv('../Dataset/data.csv', sep='|') #328 ms ± 5.78 ms per loop (mean ± std. dev. of 7 runs, 1 loop each)\n",
    "dataset_modin =  md.read_csv('../Dataset/data.csv', sep='|')"
   ]
  },
  {
   "cell_type": "code",
   "execution_count": 23,
   "id": "d30f0534",
   "metadata": {},
   "outputs": [
    {
     "name": "stdout",
     "output_type": "stream",
     "text": [
      "9.47 µs ± 112 ns per loop (mean ± std. dev. of 7 runs, 100,000 loops each)\n",
      "9.63 µs ± 83.7 ns per loop (mean ± std. dev. of 7 runs, 100,000 loops each)\n"
     ]
    }
   ],
   "source": [
    "# with pandas\n",
    "%timeit dataset.head()\n",
    "%timeit dataset.tail()"
   ]
  },
  {
   "cell_type": "markdown",
   "id": "1f4ec2fa",
   "metadata": {},
   "source": [
    "\n",
    "##### Eventhought oneAPI modin lost here,the difference in performance is very negligible in terms of quantity to consider"
   ]
  },
  {
   "cell_type": "code",
   "execution_count": 24,
   "id": "7c9dccff",
   "metadata": {},
   "outputs": [
    {
     "name": "stdout",
     "output_type": "stream",
     "text": [
      "507 µs ± 5.61 µs per loop (mean ± std. dev. of 7 runs, 1,000 loops each)\n",
      "488 µs ± 10.4 µs per loop (mean ± std. dev. of 7 runs, 1,000 loops each)\n"
     ]
    }
   ],
   "source": [
    "# with oneAPI modin\n",
    "%timeit dataset_modin.head()\n",
    "%timeit dataset_modin.tail()\n"
   ]
  },
  {
   "cell_type": "code",
   "execution_count": null,
   "id": "7aa05c6f",
   "metadata": {},
   "outputs": [],
   "source": [
    "extratrees = ek.ExtraTreesClassifier().fit(X,y)\n",
    "\n",
    "%timeit extratrees = ek.ExtraTreesClassifier().fit(X,y) #7.87 s ± 198 ms per loop (mean ± std. dev. of 7 runs, 1 loop each)\n",
    "%timeit model = SelectFromModel(extratrees, prefit=True)"
   ]
  },
  {
   "cell_type": "code",
   "execution_count": 27,
   "id": "46e1b0f6",
   "metadata": {},
   "outputs": [],
   "source": [
    "# importing intel's extension for scikit-learn\n",
    "\n",
    "from sklearnex import patch_sklearn as patch_sklearn_i\n",
    "import sklearnex.ensemble as eki\n",
    "from sklearnex import svm as svm_i"
   ]
  },
  {
   "cell_type": "markdown",
   "id": "bd1a0d5a",
   "metadata": {},
   "source": [
    "#### here OneAPI clearly wins!!"
   ]
  },
  {
   "cell_type": "code",
   "execution_count": null,
   "id": "345f00af",
   "metadata": {},
   "outputs": [
    {
     "name": "stdout",
     "output_type": "stream",
     "text": [
      "6.84 s ± 134 ms per loop (mean ± std. dev. of 7 runs, 1 loop each)\n",
      "253 ns ± 2.55 ns per loop (mean ± std. dev. of 7 runs, 1,000,000 loops each)\n"
     ]
    }
   ],
   "source": [
    "extratrees_i = eki.ExtraTreesClassifier().fit(X,y)\n",
    "\n",
    "%timeit extratrees_i = eki.ExtraTreesClassifier().fit(X,y) #6.84 s ± 134 ms per loop (mean ± std. dev. of 7 runs, 1 loop each)\n",
    "%timeit model_i = SelectFromModel(extratrees_i, prefit=True)"
   ]
  },
  {
   "cell_type": "code",
   "execution_count": 28,
   "id": "09a1da62",
   "metadata": {},
   "outputs": [
    {
     "name": "stdout",
     "output_type": "stream",
     "text": [
      "84 ms ± 8.84 ms per loop (mean ± std. dev. of 7 runs, 10 loops each)\n"
     ]
    }
   ],
   "source": [
    "# using only scikit-learn\n",
    "\n",
    "from sklearn.model_selection import train_test_split\n",
    "\n",
    "%timeit X_train, X_test, y_train, y_test = train_test_split(X_new, y ,test_size=0.29, stratify = y)\n",
    "# 36.1 ms ± 378 µs per loop (mean ± std. dev. of 7 runs, 10 loops each)"
   ]
  },
  {
   "cell_type": "markdown",
   "id": "7e23731e",
   "metadata": {},
   "source": [
    "### One API won here by leaps and bounds !!!"
   ]
  },
  {
   "cell_type": "code",
   "execution_count": 29,
   "id": "6f6f7465",
   "metadata": {},
   "outputs": [
    {
     "name": "stdout",
     "output_type": "stream",
     "text": [
      "77.4 ms ± 5.72 ms per loop (mean ± std. dev. of 7 runs, 10 loops each)\n"
     ]
    }
   ],
   "source": [
    "# oneAPI's extension\n",
    "from sklearnex.model_selection import train_test_split as tts\n",
    "%timeit X_train, X_test, y_train, y_test = tts(X_new, y ,test_size=0.29, stratify = y)"
   ]
  },
  {
   "cell_type": "code",
   "execution_count": 30,
   "id": "5686e69d",
   "metadata": {},
   "outputs": [],
   "source": [
    "# Remember eki is the ensemble module from sklearnex \n",
    "\n",
    "model_i = { \"DecisionTree\":DecisionTreeClassifier(max_depth=10),\n",
    "         \"RandomForest\":eki.RandomForestClassifier(n_estimators=50)}"
   ]
  },
  {
   "cell_type": "code",
   "execution_count": 31,
   "id": "44125040",
   "metadata": {},
   "outputs": [
    {
     "name": "stdout",
     "output_type": "stream",
     "text": [
      "DecisionTree : 0.9907578558225508 \n",
      "RandomForest : 0.9936304141479743 \n"
     ]
    }
   ],
   "source": [
    "results = {}\n",
    "for algo in model_i:\n",
    "    clf = model[algo]\n",
    "    clf.fit(X_train,y_train)\n",
    "    score = clf.score(X_test,y_test)\n",
    "    print (\"%s : %s \" %(algo, score))\n",
    "    results[algo] = score\n"
   ]
  },
  {
   "cell_type": "code",
   "execution_count": 48,
   "id": "c60d1ef7",
   "metadata": {},
   "outputs": [
    {
     "name": "stdout",
     "output_type": "stream",
     "text": [
      "Using RandomForest for classification, with 14 features.\n"
     ]
    }
   ],
   "source": [
    "winner_i = max(results, key=results.get)# Selecting the classifier with good result\n",
    "print(\"Using\", winner_i, \"for classification, with\",len(features), 'features.')"
   ]
  },
  {
   "cell_type": "markdown",
   "id": "045ae713",
   "metadata": {},
   "source": [
    "#### finally saving the model in a pickle file"
   ]
  },
  {
   "cell_type": "code",
   "execution_count": null,
   "id": "f8f3ad88",
   "metadata": {},
   "outputs": [
    {
     "data": {
      "text/plain": [
       "297"
      ]
     },
     "execution_count": 58,
     "metadata": {},
     "output_type": "execute_result"
    }
   ],
   "source": [
    "joblib.dump(model[winner_i],'./pickle_files/classifier.pkl')\n",
    "open('features.pkl', 'wb').write(pickle.dumps(features))"
   ]
  },
  {
   "cell_type": "markdown",
   "id": "e99d9365",
   "metadata": {},
   "source": [
    "### Overall One API tools, have brought in so much benefit when it comes to performance \n"
   ]
  },
  {
   "cell_type": "markdown",
   "id": "fe0009f4",
   "metadata": {},
   "source": [
    "## Perfomance metrics with OneAPI tools"
   ]
  },
  {
   "cell_type": "code",
   "execution_count": 55,
   "id": "dc54ce03",
   "metadata": {},
   "outputs": [
    {
     "data": {
      "image/png": "[encoded data removed]",
      "text/plain": [
       "<Figure size 640x480 with 2 Axes>"
      ]
     },
     "metadata": {},
     "output_type": "display_data"
    }
   ],
   "source": [
    "import sklearn.metrics as metrics\n",
    "import matplotlib.pyplot as plt\n",
    "\n",
    "predictions = model_i[winner_i].predict(X_test)\n",
    "cm = metrics.confusion_matrix(y_test,predictions,labels=model_i[winner_i].classes_)\n",
    "disp = metrics.ConfusionMatrixDisplay(confusion_matrix=cm,display_labels=model_i[winner_i].classes_)\n",
    "\n",
    "disp.plot()\n",
    "plt.show()"
   ]
  }
 ],
 "metadata": {
  "kernelspec": {
   "display_name": "Python 3",
   "language": "python",
   "name": "python3"
  },
  "language_info": {
   "codemirror_mode": {
    "name": "ipython",
    "version": 3
   },
   "file_extension": ".py",
   "mimetype": "text/x-python",
   "name": "python",
   "nbconvert_exporter": "python",
   "pygments_lexer": "ipython3",
   "version": "3.11.8"
  }
 },
 "nbformat": 4,
 "nbformat_minor": 5
}
