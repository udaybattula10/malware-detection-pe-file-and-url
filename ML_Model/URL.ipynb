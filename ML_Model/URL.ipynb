{
 "cells": [
  {
   "cell_type": "markdown",
   "id": "7165502f",
   "metadata": {},
   "source": [
    "# Without oneAPI Tools\n",
    "- to have a look at the comparison between regular OneAPI and regular libraries "
   ]
  },
  {
   "cell_type": "markdown",
   "id": "78948ef8-821e-44bb-9e20-13c7a6033f19",
   "metadata": {},
   "source": [
    "#### Importing all the required libraries"
   ]
  },
  {
   "cell_type": "code",
   "execution_count": 1,
   "id": "47f98342-b8ad-48b6-85b4-207181e3aef7",
   "metadata": {},
   "outputs": [],
   "source": [
    "import pandas as pd\n",
    "import numpy as np\n",
    "import random\n",
    "import pickle\n",
    "from sklearn.model_selection import train_test_split\n",
    "from sklearn.feature_extraction.text import TfidfVectorizer\n",
    "from sklearn.linear_model import LogisticRegression"
   ]
  },
  {
   "cell_type": "markdown",
   "id": "32e739dd-0630-4fd7-abe9-848cfb27a7a1",
   "metadata": {},
   "source": [
    "#### Importing the Dataset\n",
    "### Source : "
   ]
  },
  {
   "cell_type": "code",
   "execution_count": 2,
   "id": "d66598b0-dad4-4bd2-8a12-9b407d7205f1",
   "metadata": {},
   "outputs": [],
   "source": [
    "url = '../Dataset/data_url.csv'\n",
    "url_csv = pd.read_csv(url,delimiter=',')\n",
    "\n",
    "#converting the data from csv to dataframe for easy handling\n",
    "url_df = pd.DataFrame(url_csv)\n",
    "\n",
    "#to convert into array \n",
    "url_df = np.array(url_df)  \n",
    "random.shuffle(url_df)"
   ]
  },
  {
   "cell_type": "markdown",
   "id": "4e528eba-0c36-495e-a5a6-efc48e7e664f",
   "metadata": {},
   "source": [
    "#### Seperating the data according to it's characteristics"
   ]
  },
  {
   "cell_type": "code",
   "execution_count": 3,
   "id": "12bace9c-89d1-4243-978f-6a92cedfe9a8",
   "metadata": {},
   "outputs": [],
   "source": [
    "y = [d[1] for d in url_df]                 \n",
    "urls = [d[0] for d in url_df]"
   ]
  },
  {
   "cell_type": "markdown",
   "id": "3c9fdec8-2ef3-48e9-9a8b-b2c4a95a0648",
   "metadata": {},
   "source": [
    "#### Since the urls are different from our normal text documents, we need to use a sanitization method to get the relevant data from raw urls."
   ]
  },
  {
   "cell_type": "code",
   "execution_count": 4,
   "id": "f9ca18a2-5ca1-4b58-a0fe-77e4b8957baf",
   "metadata": {},
   "outputs": [],
   "source": [
    "def sanitization(web):\n",
    "    web = web.lower()\n",
    "    token = []\n",
    "    dot_token_slash = []\n",
    "    raw_slash = str(web).split('/')\n",
    "    for i in raw_slash:\n",
    "        # removing slash to get token\n",
    "        raw1 = str(i).split('-')\n",
    "        slash_token = []\n",
    "        for j in range(0,len(raw1)):\n",
    "            # removing dot to get the tokens\n",
    "            raw2 = str(raw1[j]).split('.')\n",
    "            slash_token = slash_token + raw2\n",
    "        dot_token_slash = dot_token_slash + raw1 + slash_token\n",
    "    # to remove same words\n",
    "    token = list(set(dot_token_slash))  \n",
    "    if 'com' in token:\n",
    "        #remove com\n",
    "        token.remove('com')\n",
    "    return token"
   ]
  },
  {
   "cell_type": "markdown",
   "id": "68c43a39-193c-42cc-87cf-f020ffa7d41f",
   "metadata": {},
   "source": [
    "#### We will have to pass the data to our custom vectorizer function using Tf-idf approach "
   ]
  },
  {
   "cell_type": "code",
   "execution_count": 5,
   "id": "9af28d71-2e3f-4f88-976d-b568e9f8c71b",
   "metadata": {},
   "outputs": [],
   "source": [
    "# term-frequency and inverse-document-frequency\n",
    "vectorizer = TfidfVectorizer(tokenizer=sanitization)"
   ]
  },
  {
   "cell_type": "markdown",
   "id": "84c8fba0-1878-416c-b17f-3da77eb24d49",
   "metadata": {},
   "source": [
    "#### Splitting the test set and train set"
   ]
  },
  {
   "cell_type": "code",
   "execution_count": 6,
   "id": "5681f7dd-8ffa-499b-8fc5-2006f4f43a0b",
   "metadata": {},
   "outputs": [
    {
     "name": "stderr",
     "output_type": "stream",
     "text": [
      "/ssd_internal_victus/work/intel_one_api/malware-detection-using-ai-2-copy/api/.python-backend/lib/python3.11/site-packages/sklearn/feature_extraction/text.py:525: UserWarning: The parameter 'token_pattern' will not be used since 'tokenizer' is not None'\n",
      "  warnings.warn(\n"
     ]
    }
   ],
   "source": [
    "x = vectorizer.fit_transform(urls)\n",
    "x_train, x_test, y_train, y_test = train_test_split(x, y, test_size=0.2, random_state=42)"
   ]
  },
  {
   "cell_type": "markdown",
   "id": "46eaf946-e2fd-4ace-b580-116e3f74cc8d",
   "metadata": {},
   "source": [
    "#### Training"
   ]
  },
  {
   "cell_type": "code",
   "execution_count": 7,
   "id": "bc989ba2-6d48-41f4-ad3b-6b8ff4425591",
   "metadata": {},
   "outputs": [
    {
     "name": "stdout",
     "output_type": "stream",
     "text": [
      "score: 98.34 %\n"
     ]
    }
   ],
   "source": [
    "lgr = LogisticRegression(solver='lbfgs', max_iter=1000)                  # Logistic regression\n",
    "lgr.fit(x_train, y_train)\n",
    "score = lgr.score(x_test, y_test)\n",
    "print(\"score: {0:.2f} %\".format(100 * score))\n",
    "vectorizer_save = vectorizer"
   ]
  },
  {
   "cell_type": "markdown",
   "id": "951166de-908e-4649-837b-ff5945021da9",
   "metadata": {},
   "source": [
    "#### Saving the modle and vectors"
   ]
  },
  {
   "cell_type": "code",
   "execution_count": 8,
   "id": "403718c3-3d3c-43c1-ae5e-e7b70b21a440",
   "metadata": {},
   "outputs": [],
   "source": [
    "file = \"pickel_model.pkl\"\n",
    "with open(file, 'wb') as f:\n",
    "    pickle.dump(lgr, f)\n",
    "f.close()\n",
    "\n",
    "file2 = \"pickel_vector.pkl\"\n",
    "with open(file2,'wb') as f2:\n",
    "    pickle.dump(vectorizer_save, f2)\n",
    "f2.close()"
   ]
  },
  {
   "cell_type": "markdown",
   "id": "100179b6",
   "metadata": {},
   "source": [
    "# With OneAPI tools"
   ]
  },
  {
   "cell_type": "code",
   "execution_count": 9,
   "id": "d87c9a8e",
   "metadata": {},
   "outputs": [],
   "source": [
    "import modin.pandas as md"
   ]
  },
  {
   "cell_type": "code",
   "execution_count": 10,
   "id": "4b93a0f4",
   "metadata": {},
   "outputs": [
    {
     "name": "stdout",
     "output_type": "stream",
     "text": [
      "347 ms ± 18 ms per loop (mean ± std. dev. of 7 runs, 1 loop each)\n",
      "3.45 µs ± 16.7 ns per loop (mean ± std. dev. of 7 runs, 100,000 loops each)\n"
     ]
    }
   ],
   "source": [
    "## without modin \n",
    "\n",
    "url = '../Dataset/data_url.csv'\n",
    "\n",
    "%timeit url_csv = pd.read_csv(url,delimiter=',')\n",
    "%timeit url_df = pd.DataFrame(url_csv)\n",
    "\n",
    "#to convert into array \n",
    "url_df = np.array(url_df)  \n",
    "random.shuffle(url_df)"
   ]
  },
  {
   "cell_type": "code",
   "execution_count": 16,
   "id": "b52bc520",
   "metadata": {},
   "outputs": [
    {
     "name": "stdout",
     "output_type": "stream",
     "text": [
      "243 ms ± 8.97 ms per loop (mean ± std. dev. of 7 runs, 1 loop each)\n"
     ]
    }
   ],
   "source": [
    "## with modin \n",
    "\n",
    "## just to ignore the warning\n",
    "\n",
    "url = '../Dataset/data_url.csv'\n",
    "\n",
    "%timeit url_csv = md.read_csv(url,delimiter=',') #270 ms ± 13.4 ms per loop (mean ± std. dev. of 7 runs, 1 loop each)\n"
   ]
  },
  {
   "cell_type": "code",
   "execution_count": 15,
   "id": "a2f54c29",
   "metadata": {},
   "outputs": [
    {
     "name": "stderr",
     "output_type": "stream",
     "text": [
      "UserWarning: Distributing <class 'pandas.core.frame.DataFrame'> object. This may take some time.\n",
      "UserWarning: Distributing <class 'pandas.core.frame.DataFrame'> object. This may take some time.\n",
      "UserWarning: Distributing <class 'pandas.core.frame.DataFrame'> object. This may take some time.\n",
      "UserWarning: Distributing <class 'pandas.core.frame.DataFrame'> object. This may take some time.\n",
      "UserWarning: Distributing <class 'pandas.core.frame.DataFrame'> object. This may take some time.\n",
      "UserWarning: Distributing <class 'pandas.core.frame.DataFrame'> object. This may take some time.\n",
      "UserWarning: Distributing <class 'pandas.core.frame.DataFrame'> object. This may take some time.\n",
      "UserWarning: Distributing <class 'pandas.core.frame.DataFrame'> object. This may take some time.\n"
     ]
    },
    {
     "name": "stdout",
     "output_type": "stream",
     "text": [
      "189 ms ± 12.3 ms per loop (mean ± std. dev. of 7 runs, 1 loop each)\n"
     ]
    }
   ],
   "source": [
    "%timeit url_df = md.DataFrame(url_csv) \n",
    "\n",
    "#39.7 ms ± 1.87 ms per loop (mean ± std. dev. of 7 runs, 10 loops each)\n",
    "#This result was absorbed when `url_csv = md.read_csv(url,delimeter=',')`\n",
    "\n",
    "# But for what we actually got is \n",
    "# 189 ms ± 12.3 ms per loop (mean ± std. dev. of 7 runs, 1 loop each)\n",
    "# So this is a result of using modin with pandas for creating a dataFrame \n",
    "# Which is a notable conclusion for our specific case, cause in real-life developers,may shuffle around modules,in that case this is notable observation"
   ]
  },
  {
   "cell_type": "markdown",
   "id": "9e9ad135",
   "metadata": {},
   "source": [
    "##### In the above case , it's quite contradicting we can clearly see that modin won in the `read_csv` part by almost saving 450 - 500 ms but when it is coming to `DataFrame` it *modin* failed misearbly"
   ]
  },
  {
   "cell_type": "code",
   "execution_count": 19,
   "id": "2d9c834d",
   "metadata": {},
   "outputs": [],
   "source": [
    "from sklearnex.linear_model import LogisticRegression as lgr_i\n",
    "from sklearnex.model_selection import train_test_split as tts_i"
   ]
  },
  {
   "cell_type": "code",
   "execution_count": null,
   "id": "ed316664",
   "metadata": {},
   "outputs": [
    {
     "name": "stdout",
     "output_type": "stream",
     "text": [
      "186 ms ± 11.8 ms per loop (mean ± std. dev. of 7 runs, 1 loop each)\n"
     ]
    }
   ],
   "source": [
    "# only using scikit learn\n",
    "\n",
    "%timeit x_train, x_test, y_train, y_test = train_test_split(x, y, test_size=0.2, random_state=42)"
   ]
  },
  {
   "cell_type": "markdown",
   "id": "eb4526f6",
   "metadata": {},
   "source": [
    "#### here performances end up at tie "
   ]
  },
  {
   "cell_type": "code",
   "execution_count": null,
   "id": "a07db9ea",
   "metadata": {},
   "outputs": [
    {
     "name": "stdout",
     "output_type": "stream",
     "text": [
      "187 ms ± 9.76 ms per loop (mean ± std. dev. of 7 runs, 1 loop each)\n"
     ]
    }
   ],
   "source": [
    "# using train_test_split function from sklearnex\n",
    "\n",
    "%timeit x_train, x_test, y_train, y_test = tts_i(x, y, test_size=0.2, random_state=42)"
   ]
  },
  {
   "cell_type": "code",
   "execution_count": 21,
   "id": "749d7e8f",
   "metadata": {},
   "outputs": [
    {
     "name": "stdout",
     "output_type": "stream",
     "text": [
      "score: 98.34 %\n",
      "4.04 s ± 473 ms per loop (mean ± std. dev. of 7 runs, 1 loop each)\n"
     ]
    }
   ],
   "source": [
    "## using scikit learn\n",
    "\n",
    "lgr = LogisticRegression(solver='lbfgs', max_iter=1000)                  # Logistic regression\n",
    "lgr.fit(x_train, y_train)\n",
    "score = lgr.score(x_test, y_test)\n",
    "print(\"score: {0:.2f} %\".format(100 * score))\n",
    "vectorizer_save = vectorizer\n",
    "\n",
    "\n",
    "%timeit lgr.fit(x_train, y_train) \n",
    "\n",
    "#(reasons unknown)\n",
    "#3.66 s ± 502 ms per loop (mean ± std. dev. of 7 runs, 1 loop each)\n"
   ]
  },
  {
   "cell_type": "code",
   "execution_count": 20,
   "id": "27eb799e",
   "metadata": {},
   "outputs": [
    {
     "name": "stdout",
     "output_type": "stream",
     "text": [
      "818 ms ± 147 ms per loop (mean ± std. dev. of 7 runs, 1 loop each)\n"
     ]
    }
   ],
   "source": [
    "## using sklearnex\n",
    "\n",
    "lgr_1 = lgr_i(solver='lbfgs', max_iter=1000)                  # Logistic regression\n",
    "lgr_1.fit(x_train, y_train)\n",
    "score = lgr_1.score(x_test, y_test)\n",
    "vectorizer_save = vectorizer\n",
    "\n",
    "%timeit lgr_1.fit(x_train, y_train) #818 ms ± 147 ms per loop (mean ± std. dev. of 7 runs, 1 loop each)\n"
   ]
  },
  {
   "cell_type": "markdown",
   "id": "23dbf625",
   "metadata": {},
   "source": [
    "### In the above case of `LogisticRegression` the method from sklearnex module outperformed scikit-learn by almost 3 times"
   ]
  },
  {
   "cell_type": "code",
   "execution_count": 22,
   "id": "65b40c48",
   "metadata": {},
   "outputs": [],
   "source": [
    "file = \"pickle_files/pickel_model.pkl\"\n",
    "with open(file, 'wb') as f:\n",
    "    pickle.dump(lgr, f)\n",
    "f.close()\n",
    "\n",
    "file2 = \"pickle_files/pickel_vector.pkl\"\n",
    "with open(file2,'wb') as f2:\n",
    "    pickle.dump(vectorizer_save, f2)\n",
    "f2.close()"
   ]
  },
  {
   "cell_type": "markdown",
   "id": "8b3e34d4",
   "metadata": {},
   "source": [
    "## Perfomance metrix with OneAPI tools"
   ]
  }
 ],
 "metadata": {
  "kernelspec": {
   "display_name": "Python 3",
   "language": "python",
   "name": "python3"
  },
  "language_info": {
   "codemirror_mode": {
    "name": "ipython",
    "version": 3
   },
   "file_extension": ".py",
   "mimetype": "text/x-python",
   "name": "python",
   "nbconvert_exporter": "python",
   "pygments_lexer": "ipython3",
   "version": "3.11.8"
  }
 },
 "nbformat": 4,
 "nbformat_minor": 5
}
